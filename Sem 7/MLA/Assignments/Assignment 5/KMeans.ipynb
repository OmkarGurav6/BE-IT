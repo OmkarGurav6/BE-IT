{
 "cells": [
  {
   "cell_type": "code",
   "execution_count": 1,
   "id": "da617fdb",
   "metadata": {},
   "outputs": [],
   "source": [
    "import numpy as np\n",
    "import pandas as pd\n",
    "import matplotlib.pyplot as plt"
   ]
  },
  {
   "cell_type": "code",
   "execution_count": 2,
   "id": "75342626",
   "metadata": {},
   "outputs": [],
   "source": [
    "kmeans_data = pd.read_csv('kmeans-data.csv', header = None)"
   ]
  },
  {
   "cell_type": "code",
   "execution_count": 3,
   "id": "e4de6f64",
   "metadata": {},
   "outputs": [
    {
     "data": {
      "text/html": [
       "<div>\n",
       "<style scoped>\n",
       "    .dataframe tbody tr th:only-of-type {\n",
       "        vertical-align: middle;\n",
       "    }\n",
       "\n",
       "    .dataframe tbody tr th {\n",
       "        vertical-align: top;\n",
       "    }\n",
       "\n",
       "    .dataframe thead th {\n",
       "        text-align: right;\n",
       "    }\n",
       "</style>\n",
       "<table border=\"1\" class=\"dataframe\">\n",
       "  <thead>\n",
       "    <tr style=\"text-align: right;\">\n",
       "      <th></th>\n",
       "      <th>0</th>\n",
       "      <th>1</th>\n",
       "    </tr>\n",
       "  </thead>\n",
       "  <tbody>\n",
       "    <tr>\n",
       "      <th>0</th>\n",
       "      <td>2.072345</td>\n",
       "      <td>-3.241693</td>\n",
       "    </tr>\n",
       "    <tr>\n",
       "      <th>1</th>\n",
       "      <td>17.936710</td>\n",
       "      <td>15.784810</td>\n",
       "    </tr>\n",
       "    <tr>\n",
       "      <th>2</th>\n",
       "      <td>1.083576</td>\n",
       "      <td>7.319176</td>\n",
       "    </tr>\n",
       "    <tr>\n",
       "      <th>3</th>\n",
       "      <td>11.120670</td>\n",
       "      <td>14.406780</td>\n",
       "    </tr>\n",
       "    <tr>\n",
       "      <th>4</th>\n",
       "      <td>23.711550</td>\n",
       "      <td>2.557729</td>\n",
       "    </tr>\n",
       "    <tr>\n",
       "      <th>...</th>\n",
       "      <td>...</td>\n",
       "      <td>...</td>\n",
       "    </tr>\n",
       "    <tr>\n",
       "      <th>2995</th>\n",
       "      <td>85.652800</td>\n",
       "      <td>-6.461061</td>\n",
       "    </tr>\n",
       "    <tr>\n",
       "      <th>2996</th>\n",
       "      <td>82.770880</td>\n",
       "      <td>-2.373299</td>\n",
       "    </tr>\n",
       "    <tr>\n",
       "      <th>2997</th>\n",
       "      <td>64.465320</td>\n",
       "      <td>-10.501360</td>\n",
       "    </tr>\n",
       "    <tr>\n",
       "      <th>2998</th>\n",
       "      <td>90.722820</td>\n",
       "      <td>-12.255840</td>\n",
       "    </tr>\n",
       "    <tr>\n",
       "      <th>2999</th>\n",
       "      <td>64.879760</td>\n",
       "      <td>-24.877310</td>\n",
       "    </tr>\n",
       "  </tbody>\n",
       "</table>\n",
       "<p>3000 rows × 2 columns</p>\n",
       "</div>"
      ],
      "text/plain": [
       "              0          1\n",
       "0      2.072345  -3.241693\n",
       "1     17.936710  15.784810\n",
       "2      1.083576   7.319176\n",
       "3     11.120670  14.406780\n",
       "4     23.711550   2.557729\n",
       "...         ...        ...\n",
       "2995  85.652800  -6.461061\n",
       "2996  82.770880  -2.373299\n",
       "2997  64.465320 -10.501360\n",
       "2998  90.722820 -12.255840\n",
       "2999  64.879760 -24.877310\n",
       "\n",
       "[3000 rows x 2 columns]"
      ]
     },
     "execution_count": 3,
     "metadata": {},
     "output_type": "execute_result"
    }
   ],
   "source": [
    "kmeans_data"
   ]
  },
  {
   "cell_type": "code",
   "execution_count": 4,
   "id": "f42905bf",
   "metadata": {},
   "outputs": [],
   "source": [
    "kmeans_data.columns = ['X', 'Y']"
   ]
  },
  {
   "cell_type": "code",
   "execution_count": 5,
   "id": "7013abeb",
   "metadata": {},
   "outputs": [
    {
     "data": {
      "text/plain": [
       "X    0\n",
       "Y    0\n",
       "dtype: int64"
      ]
     },
     "execution_count": 5,
     "metadata": {},
     "output_type": "execute_result"
    }
   ],
   "source": [
    "kmeans_data.isnull().sum()"
   ]
  },
  {
   "cell_type": "code",
   "execution_count": 6,
   "id": "7131aae2",
   "metadata": {},
   "outputs": [],
   "source": [
    "array = kmeans_data.iloc[:, [0,1]].values"
   ]
  },
  {
   "cell_type": "code",
   "execution_count": 7,
   "id": "6e282152",
   "metadata": {},
   "outputs": [
    {
     "data": {
      "text/plain": [
       "array([[  2.072345,  -3.241693],\n",
       "       [ 17.93671 ,  15.78481 ],\n",
       "       [  1.083576,   7.319176],\n",
       "       ...,\n",
       "       [ 64.46532 , -10.50136 ],\n",
       "       [ 90.72282 , -12.25584 ],\n",
       "       [ 64.87976 , -24.87731 ]])"
      ]
     },
     "execution_count": 7,
     "metadata": {},
     "output_type": "execute_result"
    }
   ],
   "source": [
    "array"
   ]
  },
  {
   "cell_type": "code",
   "execution_count": 8,
   "id": "c0c19a1f",
   "metadata": {},
   "outputs": [
    {
     "data": {
      "image/png": "[encoded data removed]",
      "text/plain": [
       "<Figure size 432x288 with 1 Axes>"
      ]
     },
     "metadata": {
      "needs_background": "light"
     },
     "output_type": "display_data"
    }
   ],
   "source": [
    "# Finding optimal number of clusters using the elbow method\n",
    "from sklearn.cluster import KMeans\n",
    "wcss = []\n",
    "\n",
    "for i in range(1,11):\n",
    "    \n",
    "    kmeans = KMeans(n_clusters = i, random_state = 42)\n",
    "    kmeans.fit(array)\n",
    "    # Appending within-cluster-sum-of-squares\n",
    "    wcss.append(kmeans.inertia_)\n",
    "\n",
    "plt.plot(range(1, 11, 1), wcss)\n",
    "plt.title('The Elbow method graph')\n",
    "plt.xlabel('Number of clusters')\n",
    "plt.ylabel('wcss')\n",
    "plt.xticks(np.arange(1,11), np.arange(1,11))\n",
    "plt.show()"
   ]
  },
  {
   "cell_type": "code",
   "execution_count": 9,
   "id": "08a3ef39",
   "metadata": {},
   "outputs": [],
   "source": [
    "kmeans = KMeans(n_clusters = 3, random_state = 42)\n",
    "y_predict = kmeans.fit_predict(array)"
   ]
  },
  {
   "cell_type": "code",
   "execution_count": 10,
   "id": "9f13e1d4",
   "metadata": {},
   "outputs": [
    {
     "data": {
      "image/png": "[encoded data removed]",
      "text/plain": [
       "<Figure size 432x288 with 1 Axes>"
      ]
     },
     "metadata": {
      "needs_background": "light"
     },
     "output_type": "display_data"
    }
   ],
   "source": [
    "plt.scatter(array[y_predict == 0,0], array[y_predict == 0,1], s = 100, c = 'blue', label = 'Cluster 1')\n",
    "\n",
    "plt.scatter(array[y_predict == 1,0], array[y_predict == 1,1], s = 100, c = 'red', label = 'Cluster 2')\n",
    "\n",
    "plt.scatter(array[y_predict == 2,0], array[y_predict == 2,1], s = 100, c = 'cyan', label = 'Cluster 3')\n",
    "\n",
    "plt.scatter(kmeans.cluster_centers_[:, 0], kmeans.cluster_centers_[:, 1], s = 300, c = 'yellow', label = 'Centroid' )\n",
    "\n",
    "plt.title('Clusters')\n",
    "\n",
    "plt.xlabel('X')\n",
    "\n",
    "plt.ylabel('Y')\n",
    "\n",
    "plt.legend()\n",
    "\n",
    "plt.show()"
   ]
  }
 ],
 "metadata": {
  "kernelspec": {
   "display_name": "Python 3",
   "language": "python",
   "name": "python3"
  },
  "language_info": {
   "codemirror_mode": {
    "name": "ipython",
    "version": 3
   },
   "file_extension": ".py",
   "mimetype": "text/x-python",
   "name": "python",
   "nbconvert_exporter": "python",
   "pygments_lexer": "ipython3",
   "version": "3.8.8"
  }
 },
 "nbformat": 4,
 "nbformat_minor": 5
}
